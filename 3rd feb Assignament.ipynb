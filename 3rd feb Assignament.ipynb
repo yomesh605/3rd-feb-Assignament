{
 "cells": [
  {
   "cell_type": "code",
   "execution_count": null,
   "id": "e95a17e5-424a-4500-b8c0-d994c4d539c2",
   "metadata": {},
   "outputs": [],
   "source": [
    "Q1. Which keyword is used to create a function? Create a function to return a list of odd numbers in the\n",
    "range of 1 to 25."
   ]
  },
  {
   "cell_type": "code",
   "execution_count": null,
   "id": "21f608b5-4020-4fdb-9839-68b3ef9415b3",
   "metadata": {},
   "outputs": [],
   "source": [
    "we define a function with the def keyword, then write the function identifier (name) followed by parentheses and a colon.\n",
    "def myfunction():"
   ]
  },
  {
   "cell_type": "code",
   "execution_count": 14,
   "id": "290434d5-7011-40cc-b60f-f931b46a7369",
   "metadata": {},
   "outputs": [
    {
     "name": "stdout",
     "output_type": "stream",
     "text": [
      "135791113151719212325"
     ]
    }
   ],
   "source": [
    "start , end = 1 , 25\n",
    "for num in range(start, end+1):\n",
    "    if num%2 != 0:\n",
    "        print(num, end = \"\")"
   ]
  },
  {
   "cell_type": "code",
   "execution_count": null,
   "id": "a75c5887-966e-4888-bb3b-ca68ed5f7bb5",
   "metadata": {},
   "outputs": [],
   "source": [
    "Q2. Why *args and **kwargs is used in some functions?Create a function each for *args and **kwargs\n",
    "to demonstrate their use."
   ]
  },
  {
   "cell_type": "code",
   "execution_count": null,
   "id": "92d5653c-a25c-4ffa-be5c-374538893ed2",
   "metadata": {},
   "outputs": [],
   "source": [
    "You can use *args and **kwargs as arguments of a function when you are unsure about the number of arguments to pass in the functions"
   ]
  },
  {
   "cell_type": "code",
   "execution_count": 15,
   "id": "670addd8-9bac-40d8-a5dc-a75f452632c2",
   "metadata": {},
   "outputs": [],
   "source": [
    "def test1(*args):\n",
    "    return args"
   ]
  },
  {
   "cell_type": "code",
   "execution_count": 16,
   "id": "3e2ee532-a568-47aa-ad20-c67d8c9c4a74",
   "metadata": {},
   "outputs": [
    {
     "data": {
      "text/plain": [
       "(1, 2, 3)"
      ]
     },
     "execution_count": 16,
     "metadata": {},
     "output_type": "execute_result"
    }
   ],
   "source": [
    "test1(1,2,3)"
   ]
  },
  {
   "cell_type": "code",
   "execution_count": 17,
   "id": "18f8b701-bc44-43ab-8556-23a7b62c24d5",
   "metadata": {},
   "outputs": [
    {
     "data": {
      "text/plain": [
       "(1, 2, 3, 4, 'sudh', 4.456, True)"
      ]
     },
     "execution_count": 17,
     "metadata": {},
     "output_type": "execute_result"
    }
   ],
   "source": [
    "test1(1,2,3,4, \"sudh\", 4.456, True)"
   ]
  },
  {
   "cell_type": "code",
   "execution_count": 19,
   "id": "49fc15ac-5b20-414d-9a10-01ee5a262a7f",
   "metadata": {},
   "outputs": [],
   "source": [
    "def test2(**kwargs):\n",
    "    return kwargs"
   ]
  },
  {
   "cell_type": "code",
   "execution_count": 20,
   "id": "02503f1c-9171-449f-8e0e-c03ae6ff833a",
   "metadata": {},
   "outputs": [
    {
     "data": {
      "text/plain": [
       "{}"
      ]
     },
     "execution_count": 20,
     "metadata": {},
     "output_type": "execute_result"
    }
   ],
   "source": [
    "test2()"
   ]
  },
  {
   "cell_type": "code",
   "execution_count": 21,
   "id": "ca5defa0-f6d8-426a-a7fd-455868638836",
   "metadata": {},
   "outputs": [
    {
     "data": {
      "text/plain": [
       "{'a': [1, 2, 3, 4], 'b': 'sudh', 'c': 78.909}"
      ]
     },
     "execution_count": 21,
     "metadata": {},
     "output_type": "execute_result"
    }
   ],
   "source": [
    "test2(a = [1,2,3,4], b = \"sudh\", c = 78.909)"
   ]
  },
  {
   "cell_type": "code",
   "execution_count": null,
   "id": "c8361bb3-e1b8-45b1-b8b2-760a33f9974e",
   "metadata": {},
   "outputs": [],
   "source": [
    "Q3. What is an iterator in python? Name the method used to initialise the iterator object and the method\n",
    "used for iteration. Use these methods to print the first five elements of the given list [2, 4, 6, 8, 10, 12, 14,\n",
    "16, 18, 20]."
   ]
  },
  {
   "cell_type": "code",
   "execution_count": null,
   "id": "2424042f-d39e-4050-b541-bea04026abc5",
   "metadata": {},
   "outputs": [],
   "source": [
    "An iterator is an object that contains a countable number of values. An iterator is an object that can be iterated upon, meaning that you can traverse through all the values.\n",
    "Iter() method is used to initialize the iterator object so that the instance of this object can be used for iterating."
   ]
  },
  {
   "cell_type": "code",
   "execution_count": 1,
   "id": "e66977e7-67e6-4f6a-9cf5-58d791cd7c9b",
   "metadata": {},
   "outputs": [],
   "source": [
    "l1 = [2,4,6,8,10,12,14,16,18,20]"
   ]
  },
  {
   "cell_type": "code",
   "execution_count": null,
   "id": "75af8456-45b1-49bb-852b-090133e8c93b",
   "metadata": {},
   "outputs": [],
   "source": [
    "Q4. What is a generator function in python? Why yield keyword is used? Give an example of a generator function."
   ]
  },
  {
   "cell_type": "code",
   "execution_count": null,
   "id": "329eb806-e54c-4fc4-9ac4-d8948461c67b",
   "metadata": {},
   "outputs": [],
   "source": [
    "In Python, a generator is a function that returns an iterator that produces a sequence of values when iterated over. Generators are useful when we want to produce a large sequence of values, but we don't want to store all of them in memory at once.\n",
    "yield keyword is used to create a generator function. A type of function that is memory efficient and can be used like an iterator object.\n"
   ]
  },
  {
   "cell_type": "code",
   "execution_count": null,
   "id": "47a4226c-360f-44a3-89e3-b0f8438fecf6",
   "metadata": {},
   "outputs": [],
   "source": [
    "def my_generator(n):\n",
    "    value = 0 \n",
    "    while value < n :\n",
    "        yield value\n",
    "        value += 1\n",
    "    for value in my_generator(3):\n",
    "    print(value)"
   ]
  },
  {
   "cell_type": "code",
   "execution_count": null,
   "id": "12ac967d-cec1-4957-a16b-a821bd3a0e28",
   "metadata": {},
   "outputs": [],
   "source": [
    "Q5.Create a generator function for prime numbers less than 1000. Use the next() method to print the first 20 prime numbers."
   ]
  },
  {
   "cell_type": "code",
   "execution_count": null,
   "id": "91c9345b-db1b-4630-8572-bbbb12b6c926",
   "metadata": {},
   "outputs": [],
   "source": [
    "lower_value = int(input (\"Please, Enter the Lowest Range Value: \"))  \n",
    "upper_value = int(input (\"Please, Enter the Upper Range Value: \"))  \n",
    "  \n",
    "print (\"The Prime Numbers in the range are: \")  \n",
    "for number in range (lower_value, upper_value + 1):  \n",
    "    if number > 1:  \n",
    "        for i in range (2, number):  \n",
    "            if (number % i) == 0:  \n",
    "                break  \n",
    "        else:  \n",
    "            print (number)  "
   ]
  },
  {
   "cell_type": "code",
   "execution_count": null,
   "id": "64c2faa0-2414-4536-84c1-dbadd960d5e3",
   "metadata": {},
   "outputs": [],
   "source": [
    "Q6. Write a python program to print the first 10 Fibonacci numbers using a while loop"
   ]
  },
  {
   "cell_type": "code",
   "execution_count": null,
   "id": "be36bb3e-16b4-485e-8ef6-12c889b686ed",
   "metadata": {},
   "outputs": [],
   "source": [
    "# Program to display the Fibonacci sequence up to n-th term\n",
    "\n",
    "nterms = int(input(\"How many terms? \"))\n",
    "\n",
    "# first two terms\n",
    "n1, n2 = 0, 1\n",
    "count = 0\n",
    "\n",
    "# check if the number of terms is valid\n",
    "if nterms <= 0:\n",
    "    print(\"Please enter a positive integer\")\n",
    "# if there is only one term, return n1\n",
    "elif nterms == 1:\n",
    "    print(\"Fibonacci sequence upto\",nterms,\":\")\n",
    "    print(n1)\n",
    "# generate fibonacci sequence\n",
    "else:\n",
    "    print(\"Fibonacci sequence:\")\n",
    "    while count < nterms:\n",
    "        print(n1)\n",
    "        nth = n1 + n2\n",
    "       # update values\n",
    "        n1 = n2\n",
    "        n2 = nth\n",
    "        count += 1"
   ]
  },
  {
   "cell_type": "code",
   "execution_count": null,
   "id": "641d8704-fde8-4371-8c8a-fa9b1f4b7c51",
   "metadata": {},
   "outputs": [],
   "source": [
    "Q7. Write a List Comprehension to iterate through the given string: ‘pwskills’.Expected output: ['p', 'w', 's', 'k', 'i', 'l', 'l', 's']"
   ]
  },
  {
   "cell_type": "code",
   "execution_count": null,
   "id": "e0c0ccda-8400-4634-878e-0917230cdcc1",
   "metadata": {},
   "outputs": [],
   "source": [
    "l1 = []\n",
    "\n",
    "for letter in 'pwskills':\n",
    "    l1.append(letter)\n",
    "\n",
    "print(l1)"
   ]
  },
  {
   "cell_type": "code",
   "execution_count": null,
   "id": "029596bf-dcc2-42b9-89d7-038c42dee3f3",
   "metadata": {},
   "outputs": [],
   "source": [
    "Q8. Write a python program to check whether a given number is Palindrome or not using a while loop."
   ]
  },
  {
   "cell_type": "code",
   "execution_count": 1,
   "id": "33b22bfc-0d7f-41c8-a8e6-9aeff601c5ae",
   "metadata": {},
   "outputs": [
    {
     "name": "stdin",
     "output_type": "stream",
     "text": [
      "Enter number: 12421\n"
     ]
    },
    {
     "name": "stdout",
     "output_type": "stream",
     "text": [
      "The number is a palindrome!\n"
     ]
    }
   ],
   "source": [
    "n=int(input(\"Enter number:\"))\n",
    "temp=n\n",
    "rev=0\n",
    "while(n>0):\n",
    "    dig=n%10\n",
    "    rev=rev*10+dig\n",
    "    n=n//10\n",
    "if(temp==rev):\n",
    "    print(\"The number is a palindrome!\")\n",
    "else:\n",
    "    print(\"The number isn't a palindrome!\")"
   ]
  },
  {
   "cell_type": "code",
   "execution_count": null,
   "id": "e981120b-4e62-445c-bd38-5edaa2be1b5f",
   "metadata": {},
   "outputs": [],
   "source": [
    "Q9. Write a code to print odd numbers from 1 to 100 using list comprehension"
   ]
  },
  {
   "cell_type": "code",
   "execution_count": 7,
   "id": "25ea3888-66d0-4298-86da-758ba8a1a7d8",
   "metadata": {},
   "outputs": [
    {
     "name": "stdout",
     "output_type": "stream",
     "text": [
      "[1, 3, 5, 7, 9, 11, 13, 15, 17, 19, 21, 23, 25, 27, 29, 31, 33, 35, 37, 39, 41, 43, 45, 47, 49, 51, 53, 55, 57, 59, 61, 63, 65, 67, 69, 71, 73, 75, 77, 79, 81, 83, 85, 87, 89, 91, 93, 95, 97, 99]\n"
     ]
    }
   ],
   "source": [
    "# Python program to print odd Numbers in a List\n",
    "\n",
    "# list of numbers\n",
    "\n",
    "only_odd = [num for num in range(1,101) if num % 2 == 1]\n",
    "\n",
    "print(only_odd)\n"
   ]
  },
  {
   "cell_type": "code",
   "execution_count": null,
   "id": "5aab3976-84b2-4950-940a-a32d4257f265",
   "metadata": {},
   "outputs": [],
   "source": []
  }
 ],
 "metadata": {
  "kernelspec": {
   "display_name": "Python 3 (ipykernel)",
   "language": "python",
   "name": "python3"
  },
  "language_info": {
   "codemirror_mode": {
    "name": "ipython",
    "version": 3
   },
   "file_extension": ".py",
   "mimetype": "text/x-python",
   "name": "python",
   "nbconvert_exporter": "python",
   "pygments_lexer": "ipython3",
   "version": "3.10.8"
  }
 },
 "nbformat": 4,
 "nbformat_minor": 5
}
